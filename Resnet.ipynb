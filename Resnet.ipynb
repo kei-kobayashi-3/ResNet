{
  "nbformat": 4,
  "nbformat_minor": 0,
  "metadata": {
    "colab": {
      "name": "Resnet.ipynb",
      "provenance": [],
      "collapsed_sections": [],
      "mount_file_id": "1UHawzbSxabX1TM7gBkZysmiOV3jFNgHj",
      "authorship_tag": "ABX9TyNk4zD+AqFMj8nwM0OyUXSH",
      "include_colab_link": true
    },
    "kernelspec": {
      "name": "python3",
      "display_name": "Python 3"
    }
  },
  "cells": [
    {
      "cell_type": "markdown",
      "metadata": {
        "id": "view-in-github",
        "colab_type": "text"
      },
      "source": [
        "<a href=\"https://colab.research.google.com/github/kei-kobayashi-3/ResNet/blob/main/Resnet.ipynb\" target=\"_parent\"><img src=\"https://colab.research.google.com/assets/colab-badge.svg\" alt=\"Open In Colab\"/></a>"
      ]
    },
    {
      "cell_type": "code",
      "metadata": {
        "id": "SupEXFYCuZsP"
      },
      "source": [
        "import torch\n",
        "import torch.nn as nn\n",
        "from torchvision import datasets,models,transforms\n",
        "from torch.utils.data import Dataset\n",
        "import torch.optim as optim\n",
        "from PIL import Image"
      ],
      "execution_count": null,
      "outputs": []
    },
    {
      "cell_type": "code",
      "metadata": {
        "id": "ZAeZri0rKIGY"
      },
      "source": [
        "def get_model(target_num,ispretrained=False):\n",
        "  \n",
        "  if (ispretrained):\n",
        "    model_ft=models.resnet18(pretrained=ispretrained)\n",
        "    \n",
        "  else:\n",
        "    model_ft=models.resnet18(pretrained=False)\n",
        "\n",
        "  model_ft.fc=nn.Linear(512,target_num)\n",
        "  model_ft=model_ft.to(device)\n",
        "  return model_ft"
      ],
      "execution_count": null,
      "outputs": []
    },
    {
      "cell_type": "code",
      "metadata": {
        "id": "KWunwYm3T8kX"
      },
      "source": [
        "# transforms"
      ],
      "execution_count": null,
      "outputs": []
    },
    {
      "cell_type": "code",
      "metadata": {
        "id": "nmzeZrouU8tB"
      },
      "source": [
        "data_transforms={\n",
        "    'train':transforms.Compose([\n",
        "                                transforms.Resize(256),\n",
        "                                transforms.RandomHorizontalFlip(p=0.5),\n",
        "                                transforms.ToTensor(),\n",
        "                                transforms.Normalize([0.485, 0.456, 0.406], [0.229, 0.224, 0.225]),\n",
        "    ]),\n",
        "    'val':transforms.Compose([\n",
        "                              transforms.Resize(256),\n",
        "                              transforms.ToTensor(),\n",
        "                              transforms.Normalize([0.485, 0.456, 0.406], [0.229, 0.224, 0.225]),\n",
        "    ]),\n",
        "}"
      ],
      "execution_count": null,
      "outputs": []
    },
    {
      "cell_type": "code",
      "metadata": {
        "id": "FIBXwlBnW6Ym"
      },
      "source": [
        "# dataset作成"
      ],
      "execution_count": null,
      "outputs": []
    },
    {
      "cell_type": "code",
      "metadata": {
        "id": "h9Ym2C_xZHdP"
      },
      "source": [
        "rm -rf `find -type d -name .ipynb_checkpoints`"
      ],
      "execution_count": null,
      "outputs": []
    },
    {
      "cell_type": "code",
      "metadata": {
        "id": "jm3X0OKHW8dp"
      },
      "source": [
        "image_datasets={\n",
        "    'train':datasets.ImageFolder('/content/drive/MyDrive/signate/鋳造/train',data_transforms['train']),\n",
        "    'val':datasets.ImageFolder('/content/drive/MyDrive/signate/鋳造/val',data_transforms['val'])\n",
        "}"
      ],
      "execution_count": null,
      "outputs": []
    },
    {
      "cell_type": "code",
      "metadata": {
        "id": "he8Q3X8PYhGo"
      },
      "source": [
        "# dataloader作成"
      ],
      "execution_count": null,
      "outputs": []
    },
    {
      "cell_type": "code",
      "metadata": {
        "id": "Nx1azhlxYihi"
      },
      "source": [
        "image_dataloaders={\n",
        "    'train':torch.utils.data.DataLoader(image_datasets['train'],batch_size=12,shuffle=True,num_workers=0,drop_last=True),\n",
        "    'val':torch.utils.data.DataLoader(image_datasets['val'],batch_size=12,shuffle=False,num_workers=0,drop_last=True),\n",
        "}"
      ],
      "execution_count": null,
      "outputs": []
    },
    {
      "cell_type": "code",
      "metadata": {
        "id": "K4W8JGIDa1h_"
      },
      "source": [
        "# モデルのインスタンス作成"
      ],
      "execution_count": null,
      "outputs": []
    },
    {
      "cell_type": "code",
      "metadata": {
        "id": "QGo9Dh3VM32S"
      },
      "source": [
        "device='cpu'\n",
        "TARGET_NUM=2"
      ],
      "execution_count": null,
      "outputs": []
    },
    {
      "cell_type": "code",
      "metadata": {
        "id": "TUoAUZ17MWtt",
        "colab": {
          "base_uri": "https://localhost:8080/"
        },
        "outputId": "52a68ec5-cf96-473b-8e38-c17f35417025"
      },
      "source": [
        "pretraind_model=get_model(target_num=TARGET_NUM,ispretrained=True)\n",
        "pretraind_model"
      ],
      "execution_count": null,
      "outputs": [
        {
          "output_type": "execute_result",
          "data": {
            "text/plain": [
              "ResNet(\n",
              "  (conv1): Conv2d(3, 64, kernel_size=(7, 7), stride=(2, 2), padding=(3, 3), bias=False)\n",
              "  (bn1): BatchNorm2d(64, eps=1e-05, momentum=0.1, affine=True, track_running_stats=True)\n",
              "  (relu): ReLU(inplace=True)\n",
              "  (maxpool): MaxPool2d(kernel_size=3, stride=2, padding=1, dilation=1, ceil_mode=False)\n",
              "  (layer1): Sequential(\n",
              "    (0): BasicBlock(\n",
              "      (conv1): Conv2d(64, 64, kernel_size=(3, 3), stride=(1, 1), padding=(1, 1), bias=False)\n",
              "      (bn1): BatchNorm2d(64, eps=1e-05, momentum=0.1, affine=True, track_running_stats=True)\n",
              "      (relu): ReLU(inplace=True)\n",
              "      (conv2): Conv2d(64, 64, kernel_size=(3, 3), stride=(1, 1), padding=(1, 1), bias=False)\n",
              "      (bn2): BatchNorm2d(64, eps=1e-05, momentum=0.1, affine=True, track_running_stats=True)\n",
              "    )\n",
              "    (1): BasicBlock(\n",
              "      (conv1): Conv2d(64, 64, kernel_size=(3, 3), stride=(1, 1), padding=(1, 1), bias=False)\n",
              "      (bn1): BatchNorm2d(64, eps=1e-05, momentum=0.1, affine=True, track_running_stats=True)\n",
              "      (relu): ReLU(inplace=True)\n",
              "      (conv2): Conv2d(64, 64, kernel_size=(3, 3), stride=(1, 1), padding=(1, 1), bias=False)\n",
              "      (bn2): BatchNorm2d(64, eps=1e-05, momentum=0.1, affine=True, track_running_stats=True)\n",
              "    )\n",
              "  )\n",
              "  (layer2): Sequential(\n",
              "    (0): BasicBlock(\n",
              "      (conv1): Conv2d(64, 128, kernel_size=(3, 3), stride=(2, 2), padding=(1, 1), bias=False)\n",
              "      (bn1): BatchNorm2d(128, eps=1e-05, momentum=0.1, affine=True, track_running_stats=True)\n",
              "      (relu): ReLU(inplace=True)\n",
              "      (conv2): Conv2d(128, 128, kernel_size=(3, 3), stride=(1, 1), padding=(1, 1), bias=False)\n",
              "      (bn2): BatchNorm2d(128, eps=1e-05, momentum=0.1, affine=True, track_running_stats=True)\n",
              "      (downsample): Sequential(\n",
              "        (0): Conv2d(64, 128, kernel_size=(1, 1), stride=(2, 2), bias=False)\n",
              "        (1): BatchNorm2d(128, eps=1e-05, momentum=0.1, affine=True, track_running_stats=True)\n",
              "      )\n",
              "    )\n",
              "    (1): BasicBlock(\n",
              "      (conv1): Conv2d(128, 128, kernel_size=(3, 3), stride=(1, 1), padding=(1, 1), bias=False)\n",
              "      (bn1): BatchNorm2d(128, eps=1e-05, momentum=0.1, affine=True, track_running_stats=True)\n",
              "      (relu): ReLU(inplace=True)\n",
              "      (conv2): Conv2d(128, 128, kernel_size=(3, 3), stride=(1, 1), padding=(1, 1), bias=False)\n",
              "      (bn2): BatchNorm2d(128, eps=1e-05, momentum=0.1, affine=True, track_running_stats=True)\n",
              "    )\n",
              "  )\n",
              "  (layer3): Sequential(\n",
              "    (0): BasicBlock(\n",
              "      (conv1): Conv2d(128, 256, kernel_size=(3, 3), stride=(2, 2), padding=(1, 1), bias=False)\n",
              "      (bn1): BatchNorm2d(256, eps=1e-05, momentum=0.1, affine=True, track_running_stats=True)\n",
              "      (relu): ReLU(inplace=True)\n",
              "      (conv2): Conv2d(256, 256, kernel_size=(3, 3), stride=(1, 1), padding=(1, 1), bias=False)\n",
              "      (bn2): BatchNorm2d(256, eps=1e-05, momentum=0.1, affine=True, track_running_stats=True)\n",
              "      (downsample): Sequential(\n",
              "        (0): Conv2d(128, 256, kernel_size=(1, 1), stride=(2, 2), bias=False)\n",
              "        (1): BatchNorm2d(256, eps=1e-05, momentum=0.1, affine=True, track_running_stats=True)\n",
              "      )\n",
              "    )\n",
              "    (1): BasicBlock(\n",
              "      (conv1): Conv2d(256, 256, kernel_size=(3, 3), stride=(1, 1), padding=(1, 1), bias=False)\n",
              "      (bn1): BatchNorm2d(256, eps=1e-05, momentum=0.1, affine=True, track_running_stats=True)\n",
              "      (relu): ReLU(inplace=True)\n",
              "      (conv2): Conv2d(256, 256, kernel_size=(3, 3), stride=(1, 1), padding=(1, 1), bias=False)\n",
              "      (bn2): BatchNorm2d(256, eps=1e-05, momentum=0.1, affine=True, track_running_stats=True)\n",
              "    )\n",
              "  )\n",
              "  (layer4): Sequential(\n",
              "    (0): BasicBlock(\n",
              "      (conv1): Conv2d(256, 512, kernel_size=(3, 3), stride=(2, 2), padding=(1, 1), bias=False)\n",
              "      (bn1): BatchNorm2d(512, eps=1e-05, momentum=0.1, affine=True, track_running_stats=True)\n",
              "      (relu): ReLU(inplace=True)\n",
              "      (conv2): Conv2d(512, 512, kernel_size=(3, 3), stride=(1, 1), padding=(1, 1), bias=False)\n",
              "      (bn2): BatchNorm2d(512, eps=1e-05, momentum=0.1, affine=True, track_running_stats=True)\n",
              "      (downsample): Sequential(\n",
              "        (0): Conv2d(256, 512, kernel_size=(1, 1), stride=(2, 2), bias=False)\n",
              "        (1): BatchNorm2d(512, eps=1e-05, momentum=0.1, affine=True, track_running_stats=True)\n",
              "      )\n",
              "    )\n",
              "    (1): BasicBlock(\n",
              "      (conv1): Conv2d(512, 512, kernel_size=(3, 3), stride=(1, 1), padding=(1, 1), bias=False)\n",
              "      (bn1): BatchNorm2d(512, eps=1e-05, momentum=0.1, affine=True, track_running_stats=True)\n",
              "      (relu): ReLU(inplace=True)\n",
              "      (conv2): Conv2d(512, 512, kernel_size=(3, 3), stride=(1, 1), padding=(1, 1), bias=False)\n",
              "      (bn2): BatchNorm2d(512, eps=1e-05, momentum=0.1, affine=True, track_running_stats=True)\n",
              "    )\n",
              "  )\n",
              "  (avgpool): AdaptiveAvgPool2d(output_size=(1, 1))\n",
              "  (fc): Linear(in_features=512, out_features=2, bias=True)\n",
              ")"
            ]
          },
          "metadata": {
            "tags": []
          },
          "execution_count": 135
        }
      ]
    },
    {
      "cell_type": "code",
      "metadata": {
        "id": "4huL52E4dUsU"
      },
      "source": [
        "#　最適化関数定義"
      ],
      "execution_count": null,
      "outputs": []
    },
    {
      "cell_type": "code",
      "metadata": {
        "id": "dCs61Tj-dcpR"
      },
      "source": [
        "optimizer=optim.SGD(pretraind_model.parameters(),lr=0.001,momentum=0.9)"
      ],
      "execution_count": null,
      "outputs": []
    },
    {
      "cell_type": "code",
      "metadata": {
        "id": "EBtIbPOWeDo0"
      },
      "source": [
        "#　loss関数"
      ],
      "execution_count": null,
      "outputs": []
    },
    {
      "cell_type": "code",
      "metadata": {
        "id": "Mpm8U3FreLLl"
      },
      "source": [
        "criterion=nn.CrossEntropyLoss()"
      ],
      "execution_count": null,
      "outputs": []
    },
    {
      "cell_type": "code",
      "metadata": {
        "id": "S4rVlsJves98"
      },
      "source": [
        ""
      ],
      "execution_count": null,
      "outputs": []
    },
    {
      "cell_type": "code",
      "metadata": {
        "id": "Ud_BxxSfeTxm"
      },
      "source": [
        "# モデル学習用関数"
      ],
      "execution_count": null,
      "outputs": []
    },
    {
      "cell_type": "code",
      "metadata": {
        "id": "qQQ5HCE3exlD"
      },
      "source": [
        "def train_model(model,criterion,optimizer,num_epochs=10,is_saved=False):\n",
        "  best_acc=0.0\n",
        "  train_losses=[]\n",
        "  val_losses=[]\n",
        "  train_acces=[]\n",
        "  val_acces=[]\n",
        "\n",
        "  for epoch in range(num_epochs):\n",
        "    for phase in ['train','val']:\n",
        "      print('{}:エポック　　{}:フェイズ'.format(epoch+1,phase))\n",
        "\n",
        "      if phase =='train':\n",
        "        model.train()\n",
        "      else:\n",
        "        model.eval()\n",
        "\n",
        "      running_loss=0.0\n",
        "      running_corrects=0\n",
        "\n",
        "      for i,(inputs,labels) in enumerate(image_dataloaders[phase]):\n",
        "        inputs=inputs.to('cpu')\n",
        "        labels=labels.to('cpu')\n",
        "\n",
        "        optimizer.zero_grad()\n",
        "\n",
        "        outputs=model(inputs)\n",
        "        _,preds=torch.max(outputs,1)\n",
        "\n",
        "        loss=criterion(outputs,labels)\n",
        "\n",
        "        print('  loaders:{}回目'.format(i+1),'  loss:{}'.format(loss))\n",
        "\n",
        "        if phase=='train':\n",
        "          loss.backward()\n",
        "          optimizer.step()\n",
        "\n",
        "        running_loss += loss.item()*inputs.size(0)\n",
        "        running_corrects += torch.sum(preds==labels.data)\n",
        "     \n",
        "      epoch_loss = running_loss / len(image_datasets[phase])\n",
        "      epoch_acc = running_corrects.double() / len(image_datasets[phase])\n",
        "\n",
        "      print('{} Loss: {:.4f}  Acc {:.4f}'.format(phase,epoch_loss,epoch_acc))\n",
        "      if phase =='train':\n",
        "        train_losses.append(epoch_loss)\n",
        "        train_acces.append(epoch_acc)\n",
        "      else:\n",
        "        val_losses.append(epoch_loss)\n",
        "        val_acces.append(epoch_acc)\n",
        "\n",
        "      if phase == 'val' and epoch_acc > best_acc:\n",
        "        best_acc = epoch_acc\n",
        "        if (is_saved):\n",
        "          torch.save(model.state_dict(),'/content/drive/MyDrive/signate/鋳造/original_model_{}.pth'.format(epoch))\n",
        "\n",
        "  print('Best val acc: {:4f}'.format(best_acc))\n",
        "  return train_losses,train_acces,val_losses,val_acces\n"
      ],
      "execution_count": null,
      "outputs": []
    },
    {
      "cell_type": "code",
      "metadata": {
        "id": "uE2-txaVpy47",
        "colab": {
          "base_uri": "https://localhost:8080/"
        },
        "outputId": "10cfb0cc-236e-4ef6-92a2-fb510914f77a"
      },
      "source": [
        "train_losses,train_acces,val_losses,val_acces=train_model(model=pretraind_model,optimizer=optimizer,is_saved=True,criterion=criterion)"
      ],
      "execution_count": null,
      "outputs": [
        {
          "output_type": "stream",
          "text": [
            "1:エポック　　train:フェイズ\n",
            "  loaders:1回目   loss:0.7161664962768555\n",
            "  loaders:2回目   loss:0.7208883762359619\n",
            "  loaders:3回目   loss:0.6120242476463318\n",
            "  loaders:4回目   loss:0.6165388822555542\n",
            "  loaders:5回目   loss:0.6139110922813416\n",
            "  loaders:6回目   loss:0.47611236572265625\n",
            "  loaders:7回目   loss:0.6040535569190979\n",
            "  loaders:8回目   loss:0.6354876160621643\n",
            "  loaders:9回目   loss:0.8244915008544922\n",
            "  loaders:10回目   loss:0.47383490204811096\n",
            "  loaders:11回目   loss:0.45113325119018555\n",
            "  loaders:12回目   loss:0.38742056488990784\n",
            "  loaders:13回目   loss:0.8272581696510315\n",
            "  loaders:14回目   loss:0.2883605659008026\n",
            "train Loss: 0.5822  Acc 0.6529\n",
            "1:エポック　　val:フェイズ\n",
            "  loaders:1回目   loss:0.7912220358848572\n",
            "  loaders:2回目   loss:0.8882817625999451\n",
            "  loaders:3回目   loss:0.8340652585029602\n",
            "  loaders:4回目   loss:0.9408385753631592\n",
            "  loaders:5回目   loss:0.3158441185951233\n",
            "  loaders:6回目   loss:0.16604728996753693\n",
            "val Loss: 0.5904  Acc 0.5125\n",
            "2:エポック　　train:フェイズ\n",
            "  loaders:1回目   loss:0.4976475238800049\n",
            "  loaders:2回目   loss:0.24199210107326508\n",
            "  loaders:3回目   loss:0.3743191957473755\n",
            "  loaders:4回目   loss:0.3017328679561615\n",
            "  loaders:5回目   loss:0.1859821081161499\n",
            "  loaders:6回目   loss:0.37339746952056885\n",
            "  loaders:7回目   loss:0.16962474584579468\n",
            "  loaders:8回目   loss:0.4415019452571869\n",
            "  loaders:9回目   loss:1.1837893724441528\n",
            "  loaders:10回目   loss:0.18983738124370575\n",
            "  loaders:11回目   loss:0.25409749150276184\n",
            "  loaders:12回目   loss:0.12537670135498047\n",
            "  loaders:13回目   loss:0.1650143563747406\n",
            "  loaders:14回目   loss:0.3546806275844574\n",
            "train Loss: 0.3430  Acc 0.8471\n",
            "2:エポック　　val:フェイズ\n",
            "  loaders:1回目   loss:0.7036743760108948\n",
            "  loaders:2回目   loss:0.7504240870475769\n",
            "  loaders:3回目   loss:0.8447139859199524\n",
            "  loaders:4回目   loss:0.9105947613716125\n",
            "  loaders:5回目   loss:0.20725198090076447\n",
            "  loaders:6回目   loss:0.021206246688961983\n",
            "val Loss: 0.5157  Acc 0.6125\n",
            "3:エポック　　train:フェイズ\n",
            "  loaders:1回目   loss:0.5856407284736633\n",
            "  loaders:2回目   loss:0.14351199567317963\n",
            "  loaders:3回目   loss:0.47239449620246887\n",
            "  loaders:4回目   loss:0.1182996854186058\n",
            "  loaders:5回目   loss:0.3954222500324249\n",
            "  loaders:6回目   loss:0.4474679231643677\n",
            "  loaders:7回目   loss:0.16745345294475555\n",
            "  loaders:8回目   loss:0.09113264083862305\n",
            "  loaders:9回目   loss:0.04607916995882988\n",
            "  loaders:10回目   loss:0.24844956398010254\n",
            "  loaders:11回目   loss:0.18807627260684967\n",
            "  loaders:12回目   loss:0.07553694397211075\n",
            "  loaders:13回目   loss:0.16599442064762115\n",
            "  loaders:14回目   loss:0.10270562022924423\n",
            "train Loss: 0.2293  Acc 0.9059\n",
            "3:エポック　　val:フェイズ\n",
            "  loaders:1回目   loss:0.010014929808676243\n",
            "  loaders:2回目   loss:0.009127683937549591\n",
            "  loaders:3回目   loss:0.02276553213596344\n",
            "  loaders:4回目   loss:0.034472424536943436\n",
            "  loaders:5回目   loss:0.28409573435783386\n",
            "  loaders:6回目   loss:0.34168705344200134\n",
            "val Loss: 0.1053  Acc 0.8625\n",
            "4:エポック　　train:フェイズ\n",
            "  loaders:1回目   loss:0.01780049316585064\n",
            "  loaders:2回目   loss:0.10933295637369156\n",
            "  loaders:3回目   loss:0.5588110089302063\n",
            "  loaders:4回目   loss:0.04219541326165199\n",
            "  loaders:5回目   loss:0.07599344104528427\n",
            "  loaders:6回目   loss:0.06285291910171509\n",
            "  loaders:7回目   loss:0.1183127835392952\n",
            "  loaders:8回目   loss:0.06914142519235611\n",
            "  loaders:9回目   loss:0.04405825957655907\n",
            "  loaders:10回目   loss:0.029365619644522667\n",
            "  loaders:11回目   loss:0.1350902020931244\n",
            "  loaders:12回目   loss:0.19118176400661469\n",
            "  loaders:13回目   loss:0.033536072820425034\n",
            "  loaders:14回目   loss:0.03119599260389805\n",
            "train Loss: 0.1072  Acc 0.9529\n",
            "4:エポック　　val:フェイズ\n",
            "  loaders:1回目   loss:0.048309627920389175\n",
            "  loaders:2回目   loss:0.029162133112549782\n",
            "  loaders:3回目   loss:0.08411227911710739\n",
            "  loaders:4回目   loss:0.1215008869767189\n",
            "  loaders:5回目   loss:0.052852753549814224\n",
            "  loaders:6回目   loss:0.015555858612060547\n",
            "val Loss: 0.0527  Acc 0.8875\n",
            "5:エポック　　train:フェイズ\n",
            "  loaders:1回目   loss:0.19872604310512543\n",
            "  loaders:2回目   loss:0.09156704694032669\n",
            "  loaders:3回目   loss:0.055723514407873154\n",
            "  loaders:4回目   loss:0.06913399696350098\n",
            "  loaders:5回目   loss:0.24041569232940674\n",
            "  loaders:6回目   loss:0.027977341786026955\n",
            "  loaders:7回目   loss:0.06462546437978745\n",
            "  loaders:8回目   loss:0.01742398925125599\n",
            "  loaders:9回目   loss:0.19879619777202606\n",
            "  loaders:10回目   loss:0.023498615249991417\n",
            "  loaders:11回目   loss:0.016192296519875526\n",
            "  loaders:12回目   loss:0.02123384363949299\n",
            "  loaders:13回目   loss:0.009454303421080112\n",
            "  loaders:14回目   loss:0.011359202675521374\n",
            "train Loss: 0.0738  Acc 0.9706\n",
            "5:エポック　　val:フェイズ\n",
            "  loaders:1回目   loss:0.0034967779647558928\n",
            "  loaders:2回目   loss:0.004912246484309435\n",
            "  loaders:3回目   loss:0.0056697833351790905\n",
            "  loaders:4回目   loss:0.008864362724125385\n",
            "  loaders:5回目   loss:0.17321644723415375\n",
            "  loaders:6回目   loss:0.09507152438163757\n",
            "val Loss: 0.0437  Acc 0.8750\n",
            "6:エポック　　train:フェイズ\n",
            "  loaders:1回目   loss:0.0075842891819775105\n",
            "  loaders:2回目   loss:0.18456043303012848\n",
            "  loaders:3回目   loss:0.0137079618871212\n",
            "  loaders:4回目   loss:0.019477685913443565\n",
            "  loaders:5回目   loss:0.026400431990623474\n",
            "  loaders:6回目   loss:0.014982310123741627\n",
            "  loaders:7回目   loss:0.09971105307340622\n",
            "  loaders:8回目   loss:0.030184581875801086\n",
            "  loaders:9回目   loss:0.012703727930784225\n",
            "  loaders:10回目   loss:0.04213595762848854\n",
            "  loaders:11回目   loss:0.011435534805059433\n",
            "  loaders:12回目   loss:0.006110180169343948\n",
            "  loaders:13回目   loss:0.3805406987667084\n",
            "  loaders:14回目   loss:0.01226386521011591\n",
            "train Loss: 0.0608  Acc 0.9647\n",
            "6:エポック　　val:フェイズ\n",
            "  loaders:1回目   loss:0.003979122266173363\n",
            "  loaders:2回目   loss:0.005544580519199371\n",
            "  loaders:3回目   loss:0.0216642078012228\n",
            "  loaders:4回目   loss:0.014900412410497665\n",
            "  loaders:5回目   loss:0.05909905955195427\n",
            "  loaders:6回目   loss:0.03287394717335701\n",
            "val Loss: 0.0207  Acc 0.9000\n",
            "7:エポック　　train:フェイズ\n",
            "  loaders:1回目   loss:0.003158734180033207\n",
            "  loaders:2回目   loss:0.03611550107598305\n",
            "  loaders:3回目   loss:0.011602547951042652\n",
            "  loaders:4回目   loss:0.012445059604942799\n",
            "  loaders:5回目   loss:0.01728556863963604\n",
            "  loaders:6回目   loss:0.04716679826378822\n",
            "  loaders:7回目   loss:0.022551290690898895\n",
            "  loaders:8回目   loss:0.1142154261469841\n",
            "  loaders:9回目   loss:0.006770489737391472\n",
            "  loaders:10回目   loss:0.012747581116855145\n",
            "  loaders:11回目   loss:0.004249496851116419\n",
            "  loaders:12回目   loss:0.00352432276122272\n",
            "  loaders:13回目   loss:0.011999453417956829\n",
            "  loaders:14回目   loss:0.004814955871552229\n",
            "train Loss: 0.0218  Acc 0.9882\n",
            "7:エポック　　val:フェイズ\n",
            "  loaders:1回目   loss:0.008278167806565762\n",
            "  loaders:2回目   loss:0.008432419039309025\n",
            "  loaders:3回目   loss:0.05673528090119362\n",
            "  loaders:4回目   loss:0.07690577954053879\n",
            "  loaders:5回目   loss:0.02115231566131115\n",
            "  loaders:6回目   loss:0.017949998378753662\n",
            "val Loss: 0.0284  Acc 0.8875\n",
            "8:エポック　　train:フェイズ\n",
            "  loaders:1回目   loss:0.010130521841347218\n",
            "  loaders:2回目   loss:0.0038500467780977488\n",
            "  loaders:3回目   loss:0.04692867398262024\n",
            "  loaders:4回目   loss:0.0033486809115856886\n",
            "  loaders:5回目   loss:0.005653593223541975\n",
            "  loaders:6回目   loss:0.02325022965669632\n",
            "  loaders:7回目   loss:0.04050770774483681\n",
            "  loaders:8回目   loss:0.028296450152993202\n",
            "  loaders:9回目   loss:0.004020978696644306\n",
            "  loaders:10回目   loss:0.005087967496365309\n",
            "  loaders:11回目   loss:0.023035407066345215\n",
            "  loaders:12回目   loss:0.020899832248687744\n",
            "  loaders:13回目   loss:0.003362380899488926\n",
            "  loaders:14回目   loss:0.005303493235260248\n",
            "train Loss: 0.0158  Acc 0.9882\n",
            "8:エポック　　val:フェイズ\n",
            "  loaders:1回目   loss:0.007151226047426462\n",
            "  loaders:2回目   loss:0.009081907570362091\n",
            "  loaders:3回目   loss:0.06200336292386055\n",
            "  loaders:4回目   loss:0.0775073990225792\n",
            "  loaders:5回目   loss:0.014334172941744328\n",
            "  loaders:6回目   loss:0.005961751099675894\n",
            "val Loss: 0.0264  Acc 0.8875\n",
            "9:エポック　　train:フェイズ\n",
            "  loaders:1回目   loss:0.0015541448956355453\n",
            "  loaders:2回目   loss:0.02010185271501541\n",
            "  loaders:3回目   loss:0.009480096399784088\n",
            "  loaders:4回目   loss:0.015444114804267883\n",
            "  loaders:5回目   loss:0.005568547174334526\n",
            "  loaders:6回目   loss:0.164401575922966\n",
            "  loaders:7回目   loss:0.004063580650836229\n",
            "  loaders:8回目   loss:0.010328441858291626\n",
            "  loaders:9回目   loss:0.020799556747078896\n",
            "  loaders:10回目   loss:0.05312308296561241\n",
            "  loaders:11回目   loss:0.003049232065677643\n",
            "  loaders:12回目   loss:0.04606011509895325\n",
            "  loaders:13回目   loss:0.022209808230400085\n",
            "  loaders:14回目   loss:0.0012199614429846406\n",
            "  loaders:1回目   loss:0.0020903500262647867\n",
            "  loaders:2回目   loss:0.002728954888880253\n",
            "  loaders:3回目   loss:0.03329506143927574\n",
            "  loaders:4回目   loss:0.027524730190634727\n",
            "  loaders:5回目   loss:0.016507497057318687\n",
            "  loaders:6回目   loss:0.00805679988116026\n",
            "val Loss: 0.0135  Acc 0.9000\n",
            "10:エポック　　train:フェイズ\n",
            "  loaders:1回目   loss:0.006661593448370695\n",
            "  loaders:2回目   loss:0.0030769165605306625\n",
            "  loaders:3回目   loss:0.013340145349502563\n",
            "  loaders:4回目   loss:0.05093631148338318\n",
            "  loaders:5回目   loss:0.005211708601564169\n",
            "  loaders:6回目   loss:0.0010460758348926902\n",
            "  loaders:7回目   loss:0.3033059537410736\n",
            "  loaders:8回目   loss:0.026141485199332237\n",
            "  loaders:9回目   loss:0.0018883562879636884\n",
            "  loaders:10回目   loss:0.010362399742007256\n",
            "  loaders:11回目   loss:0.003253314644098282\n",
            "  loaders:12回目   loss:0.05383209511637688\n",
            "  loaders:13回目   loss:0.001922349794767797\n",
            "  loaders:14回目   loss:0.0028124654199928045\n",
            "train Loss: 0.0341  Acc 0.9765\n",
            "10:エポック　　val:フェイズ\n",
            "  loaders:1回目   loss:0.004285486880689859\n",
            "  loaders:2回目   loss:0.004912401083856821\n",
            "  loaders:3回目   loss:0.02711249142885208\n",
            "  loaders:4回目   loss:0.024744413793087006\n",
            "  loaders:5回目   loss:0.01632186397910118\n",
            "  loaders:6回目   loss:0.006433570757508278\n",
            "val Loss: 0.0126  Acc 0.9000\n",
            "Best val acc: 0.900000\n"
          ],
          "name": "stdout"
        }
      ]
    },
    {
      "cell_type": "code",
      "metadata": {
        "id": "9vhsZ8O_1QVz"
      },
      "source": [
        "import pandas as pd\n",
        "import matplotlib.pyplot as plt\n",
        "%matplotlib inline"
      ],
      "execution_count": null,
      "outputs": []
    },
    {
      "cell_type": "code",
      "metadata": {
        "id": "W1otpeiMzFwe"
      },
      "source": [
        "result=pd.DataFrame({'train_loss':train_losses,'train_acc':train_acces,'val_loss':val_losses,'val_acc':val_acces})"
      ],
      "execution_count": null,
      "outputs": []
    },
    {
      "cell_type": "code",
      "metadata": {
        "colab": {
          "base_uri": "https://localhost:8080/",
          "height": 554
        },
        "id": "6F4HWJ0v1J3e",
        "outputId": "8ba64abf-7916-41bf-a65a-000191901622"
      },
      "source": [
        "fig,ax=plt.subplots(figsize=(12,9))\n",
        "ax.plot(result['train_loss'],label='train_loss')\n",
        "ax.plot(result['train_acc'],label='train_acc')\n",
        "ax.plot(result['val_loss'],label='val_loss')\n",
        "ax.plot(result['val_acc'],label='val_acc')\n",
        "ax.legend()"
      ],
      "execution_count": null,
      "outputs": [
        {
          "output_type": "execute_result",
          "data": {
            "text/plain": [
              "<matplotlib.legend.Legend at 0x7fcb9dab2b90>"
            ]
          },
          "metadata": {
            "tags": []
          },
          "execution_count": 145
        },
        {
          "output_type": "display_data",
          "data": {
            "image/png": "[encoded data removed]",
            "text/plain": [
              "<Figure size 864x648 with 1 Axes>"
            ]
          },
          "metadata": {
            "tags": [],
            "needs_background": "light"
          }
        }
      ]
    },
    {
      "cell_type": "code",
      "metadata": {
        "id": "Y5SvKxH21VRA"
      },
      "source": [
        "# 推論用のtransforrms"
      ],
      "execution_count": null,
      "outputs": []
    },
    {
      "cell_type": "code",
      "metadata": {
        "id": "L0n7BRHUSFVA"
      },
      "source": [
        "test_transforms=transforms.Compose([\n",
        "                                    transforms.Resize(256),\n",
        "                                    transforms.ToTensor(),\n",
        "                                    transforms.Normalize([0.484,0.456,0.406],[0.229,0.224,0.225]),\n",
        "])"
      ],
      "execution_count": null,
      "outputs": []
    },
    {
      "cell_type": "code",
      "metadata": {
        "id": "8AKj8gxXSzn9"
      },
      "source": [
        "class Test_Datasets(Dataset):\n",
        "\n",
        "  def __init__(self,data_transform):\n",
        "    self.df=pd.read_csv('/content/drive/MyDrive/signate/鋳造/test/df_test.csv')\n",
        "    self.data_transform=data_transform\n",
        "\n",
        "  def __len__(self):\n",
        "    return len(self.df)\n",
        "\n",
        "  def __getitem__(self,index):\n",
        "    file=self.df['filename'][index]\n",
        "    image=Image.open('/content/drive/MyDrive/signate/鋳造/test/test_data/'+file)\n",
        "    image=self.data_transform(image)\n",
        "\n",
        "    return image,file"
      ],
      "execution_count": null,
      "outputs": []
    },
    {
      "cell_type": "code",
      "metadata": {
        "id": "F8fZcV8pS1Z7"
      },
      "source": [
        "# datasetのインスタンス作成"
      ],
      "execution_count": null,
      "outputs": []
    },
    {
      "cell_type": "code",
      "metadata": {
        "id": "Vt_8Wh97ULmX"
      },
      "source": [
        "test_dataset=Test_Datasets(data_transform=test_transforms)"
      ],
      "execution_count": null,
      "outputs": []
    },
    {
      "cell_type": "code",
      "metadata": {
        "id": "VBJ1_VeUXuNH"
      },
      "source": [
        "# dataloader作成"
      ],
      "execution_count": null,
      "outputs": []
    },
    {
      "cell_type": "code",
      "metadata": {
        "id": "y0UiYLRLX2UA"
      },
      "source": [
        "test_dataloader=torch.utils.data.DataLoader(dataset=test_dataset,batch_size=1,shuffle=False,num_workers=0,drop_last=True)"
      ],
      "execution_count": null,
      "outputs": []
    },
    {
      "cell_type": "code",
      "metadata": {
        "id": "fT84Qpa3YTr4"
      },
      "source": [
        "device='cpu'"
      ],
      "execution_count": null,
      "outputs": []
    },
    {
      "cell_type": "code",
      "metadata": {
        "id": "ZATvBlj-YWJN"
      },
      "source": [
        "best_model=get_model(target_num=2,ispretrained=False)"
      ],
      "execution_count": null,
      "outputs": []
    },
    {
      "cell_type": "code",
      "metadata": {
        "id": "uEZJLKcuafIC"
      },
      "source": [
        "# 学習ずみモデルのロード"
      ],
      "execution_count": null,
      "outputs": []
    },
    {
      "cell_type": "code",
      "metadata": {
        "colab": {
          "base_uri": "https://localhost:8080/"
        },
        "id": "l0qsst29Zpzo",
        "outputId": "1aae9918-5f1a-42b1-ba2b-ac99a98f3b98"
      },
      "source": [
        "best_model.load_state_dict(torch.load('/content/drive/MyDrive/signate/鋳造/original_model_5.pth',map_location=lambda strage, loc:strage),strict=True)"
      ],
      "execution_count": null,
      "outputs": [
        {
          "output_type": "execute_result",
          "data": {
            "text/plain": [
              "<All keys matched successfully>"
            ]
          },
          "metadata": {
            "tags": []
          },
          "execution_count": 204
        }
      ]
    },
    {
      "cell_type": "code",
      "metadata": {
        "id": "1Hg9Wwg5bLvg"
      },
      "source": [
        "# 推論を行う"
      ],
      "execution_count": null,
      "outputs": []
    },
    {
      "cell_type": "code",
      "metadata": {
        "id": "MZKZ-0s4gUoQ"
      },
      "source": [
        "df_test=pd.read_csv('/content/drive/MyDrive/signate/鋳造/test/df_test.csv')"
      ],
      "execution_count": null,
      "outputs": []
    },
    {
      "cell_type": "code",
      "metadata": {
        "id": "Lt0YlnQrb4Xb"
      },
      "source": [
        "pred=[]\n",
        "\n",
        "for i,(inputs,labels) in enumerate(test_dataloader):\n",
        "\n",
        "  inputs=inputs.to(device)\n",
        "\n",
        "  best_model.eval()\n",
        "\n",
        "  outputs=best_model(inputs)\n",
        "\n",
        "  _,preds=torch.max(outputs,1)\n",
        "\n",
        "  pred.append(preds.item())\n",
        "\n",
        "df_test['pred']=pred"
      ],
      "execution_count": null,
      "outputs": []
    },
    {
      "cell_type": "code",
      "metadata": {
        "colab": {
          "base_uri": "https://localhost:8080/",
          "height": 416
        },
        "id": "Uw3wBYxwd6g-",
        "outputId": "ef13e2ff-f57e-4131-f3d8-18ec296f3dc3"
      },
      "source": [
        "df_test"
      ],
      "execution_count": null,
      "outputs": [
        {
          "output_type": "execute_result",
          "data": {
            "text/html": [
              "<div>\n",
              "<style scoped>\n",
              "    .dataframe tbody tr th:only-of-type {\n",
              "        vertical-align: middle;\n",
              "    }\n",
              "\n",
              "    .dataframe tbody tr th {\n",
              "        vertical-align: top;\n",
              "    }\n",
              "\n",
              "    .dataframe thead th {\n",
              "        text-align: right;\n",
              "    }\n",
              "</style>\n",
              "<table border=\"1\" class=\"dataframe\">\n",
              "  <thead>\n",
              "    <tr style=\"text-align: right;\">\n",
              "      <th></th>\n",
              "      <th>filename</th>\n",
              "      <th>target</th>\n",
              "      <th>pred</th>\n",
              "    </tr>\n",
              "  </thead>\n",
              "  <tbody>\n",
              "    <tr>\n",
              "      <th>0</th>\n",
              "      <td>789907.jpeg</td>\n",
              "      <td>0</td>\n",
              "      <td>1</td>\n",
              "    </tr>\n",
              "    <tr>\n",
              "      <th>1</th>\n",
              "      <td>439948.jpeg</td>\n",
              "      <td>0</td>\n",
              "      <td>1</td>\n",
              "    </tr>\n",
              "    <tr>\n",
              "      <th>2</th>\n",
              "      <td>489913.jpeg</td>\n",
              "      <td>0</td>\n",
              "      <td>1</td>\n",
              "    </tr>\n",
              "    <tr>\n",
              "      <th>3</th>\n",
              "      <td>429933.jpeg</td>\n",
              "      <td>0</td>\n",
              "      <td>0</td>\n",
              "    </tr>\n",
              "    <tr>\n",
              "      <th>4</th>\n",
              "      <td>499929.jpeg</td>\n",
              "      <td>0</td>\n",
              "      <td>0</td>\n",
              "    </tr>\n",
              "    <tr>\n",
              "      <th>...</th>\n",
              "      <td>...</td>\n",
              "      <td>...</td>\n",
              "      <td>...</td>\n",
              "    </tr>\n",
              "    <tr>\n",
              "      <th>95</th>\n",
              "      <td>899886.jpeg</td>\n",
              "      <td>0</td>\n",
              "      <td>1</td>\n",
              "    </tr>\n",
              "    <tr>\n",
              "      <th>96</th>\n",
              "      <td>889886.jpeg</td>\n",
              "      <td>0</td>\n",
              "      <td>0</td>\n",
              "    </tr>\n",
              "    <tr>\n",
              "      <th>97</th>\n",
              "      <td>309928.jpeg</td>\n",
              "      <td>0</td>\n",
              "      <td>0</td>\n",
              "    </tr>\n",
              "    <tr>\n",
              "      <th>98</th>\n",
              "      <td>839998.jpeg</td>\n",
              "      <td>0</td>\n",
              "      <td>1</td>\n",
              "    </tr>\n",
              "    <tr>\n",
              "      <th>99</th>\n",
              "      <td>829920.jpeg</td>\n",
              "      <td>0</td>\n",
              "      <td>1</td>\n",
              "    </tr>\n",
              "  </tbody>\n",
              "</table>\n",
              "<p>100 rows × 3 columns</p>\n",
              "</div>"
            ],
            "text/plain": [
              "       filename  target  pred\n",
              "0   789907.jpeg       0     1\n",
              "1   439948.jpeg       0     1\n",
              "2   489913.jpeg       0     1\n",
              "3   429933.jpeg       0     0\n",
              "4   499929.jpeg       0     0\n",
              "..          ...     ...   ...\n",
              "95  899886.jpeg       0     1\n",
              "96  889886.jpeg       0     0\n",
              "97  309928.jpeg       0     0\n",
              "98  839998.jpeg       0     1\n",
              "99  829920.jpeg       0     1\n",
              "\n",
              "[100 rows x 3 columns]"
            ]
          },
          "metadata": {
            "tags": []
          },
          "execution_count": 209
        }
      ]
    },
    {
      "cell_type": "code",
      "metadata": {
        "id": "tGVdOO82eHnl"
      },
      "source": [
        "sample=pd.read_csv('/content/drive/MyDrive/signate/鋳造/sample_submission.csv')"
      ],
      "execution_count": null,
      "outputs": []
    },
    {
      "cell_type": "code",
      "metadata": {
        "colab": {
          "base_uri": "https://localhost:8080/",
          "height": 416
        },
        "id": "oQl7zlsqg13H",
        "outputId": "82ad6c14-98ba-4b26-8245-907355ce40b1"
      },
      "source": [
        "sample"
      ],
      "execution_count": null,
      "outputs": [
        {
          "output_type": "execute_result",
          "data": {
            "text/html": [
              "<div>\n",
              "<style scoped>\n",
              "    .dataframe tbody tr th:only-of-type {\n",
              "        vertical-align: middle;\n",
              "    }\n",
              "\n",
              "    .dataframe tbody tr th {\n",
              "        vertical-align: top;\n",
              "    }\n",
              "\n",
              "    .dataframe thead th {\n",
              "        text-align: right;\n",
              "    }\n",
              "</style>\n",
              "<table border=\"1\" class=\"dataframe\">\n",
              "  <thead>\n",
              "    <tr style=\"text-align: right;\">\n",
              "      <th></th>\n",
              "      <th>19871.jpeg</th>\n",
              "      <th>0</th>\n",
              "    </tr>\n",
              "  </thead>\n",
              "  <tbody>\n",
              "    <tr>\n",
              "      <th>0</th>\n",
              "      <td>29934.jpeg</td>\n",
              "      <td>0</td>\n",
              "    </tr>\n",
              "    <tr>\n",
              "      <th>1</th>\n",
              "      <td>39826.jpeg</td>\n",
              "      <td>0</td>\n",
              "    </tr>\n",
              "    <tr>\n",
              "      <th>2</th>\n",
              "      <td>49888.jpeg</td>\n",
              "      <td>0</td>\n",
              "    </tr>\n",
              "    <tr>\n",
              "      <th>3</th>\n",
              "      <td>59918.jpeg</td>\n",
              "      <td>0</td>\n",
              "    </tr>\n",
              "    <tr>\n",
              "      <th>4</th>\n",
              "      <td>69975.jpeg</td>\n",
              "      <td>0</td>\n",
              "    </tr>\n",
              "    <tr>\n",
              "      <th>...</th>\n",
              "      <td>...</td>\n",
              "      <td>...</td>\n",
              "    </tr>\n",
              "    <tr>\n",
              "      <th>94</th>\n",
              "      <td>969983.jpeg</td>\n",
              "      <td>0</td>\n",
              "    </tr>\n",
              "    <tr>\n",
              "      <th>95</th>\n",
              "      <td>979891.jpeg</td>\n",
              "      <td>0</td>\n",
              "    </tr>\n",
              "    <tr>\n",
              "      <th>96</th>\n",
              "      <td>989921.jpeg</td>\n",
              "      <td>0</td>\n",
              "    </tr>\n",
              "    <tr>\n",
              "      <th>97</th>\n",
              "      <td>999921.jpeg</td>\n",
              "      <td>0</td>\n",
              "    </tr>\n",
              "    <tr>\n",
              "      <th>98</th>\n",
              "      <td>1009937.jpeg</td>\n",
              "      <td>0</td>\n",
              "    </tr>\n",
              "  </tbody>\n",
              "</table>\n",
              "<p>99 rows × 2 columns</p>\n",
              "</div>"
            ],
            "text/plain": [
              "      19871.jpeg  0\n",
              "0     29934.jpeg  0\n",
              "1     39826.jpeg  0\n",
              "2     49888.jpeg  0\n",
              "3     59918.jpeg  0\n",
              "4     69975.jpeg  0\n",
              "..           ... ..\n",
              "94   969983.jpeg  0\n",
              "95   979891.jpeg  0\n",
              "96   989921.jpeg  0\n",
              "97   999921.jpeg  0\n",
              "98  1009937.jpeg  0\n",
              "\n",
              "[99 rows x 2 columns]"
            ]
          },
          "metadata": {
            "tags": []
          },
          "execution_count": 211
        }
      ]
    },
    {
      "cell_type": "code",
      "metadata": {
        "id": "fgZKQH1Zhmq6"
      },
      "source": [
        "df_test=df_test.drop(columns='target')"
      ],
      "execution_count": null,
      "outputs": []
    },
    {
      "cell_type": "code",
      "metadata": {
        "id": "e2VfQZjYg3Mq"
      },
      "source": [
        "df_test.to_csv('/content/drive/MyDrive/signate/鋳造/submit.csv',header=None,index=None)"
      ],
      "execution_count": null,
      "outputs": []
    },
    {
      "cell_type": "code",
      "metadata": {
        "colab": {
          "base_uri": "https://localhost:8080/",
          "height": 416
        },
        "id": "LfTU-O0phZZ7",
        "outputId": "d903437f-be94-47b9-f3ac-856cfbf3858d"
      },
      "source": [
        "pd.read_csv('/content/drive/MyDrive/signate/鋳造/submit.csv')"
      ],
      "execution_count": null,
      "outputs": [
        {
          "output_type": "execute_result",
          "data": {
            "text/html": [
              "<div>\n",
              "<style scoped>\n",
              "    .dataframe tbody tr th:only-of-type {\n",
              "        vertical-align: middle;\n",
              "    }\n",
              "\n",
              "    .dataframe tbody tr th {\n",
              "        vertical-align: top;\n",
              "    }\n",
              "\n",
              "    .dataframe thead th {\n",
              "        text-align: right;\n",
              "    }\n",
              "</style>\n",
              "<table border=\"1\" class=\"dataframe\">\n",
              "  <thead>\n",
              "    <tr style=\"text-align: right;\">\n",
              "      <th></th>\n",
              "      <th>789907.jpeg</th>\n",
              "      <th>1</th>\n",
              "    </tr>\n",
              "  </thead>\n",
              "  <tbody>\n",
              "    <tr>\n",
              "      <th>0</th>\n",
              "      <td>439948.jpeg</td>\n",
              "      <td>1</td>\n",
              "    </tr>\n",
              "    <tr>\n",
              "      <th>1</th>\n",
              "      <td>489913.jpeg</td>\n",
              "      <td>1</td>\n",
              "    </tr>\n",
              "    <tr>\n",
              "      <th>2</th>\n",
              "      <td>429933.jpeg</td>\n",
              "      <td>0</td>\n",
              "    </tr>\n",
              "    <tr>\n",
              "      <th>3</th>\n",
              "      <td>499929.jpeg</td>\n",
              "      <td>0</td>\n",
              "    </tr>\n",
              "    <tr>\n",
              "      <th>4</th>\n",
              "      <td>259831.jpeg</td>\n",
              "      <td>1</td>\n",
              "    </tr>\n",
              "    <tr>\n",
              "      <th>...</th>\n",
              "      <td>...</td>\n",
              "      <td>...</td>\n",
              "    </tr>\n",
              "    <tr>\n",
              "      <th>94</th>\n",
              "      <td>899886.jpeg</td>\n",
              "      <td>1</td>\n",
              "    </tr>\n",
              "    <tr>\n",
              "      <th>95</th>\n",
              "      <td>889886.jpeg</td>\n",
              "      <td>0</td>\n",
              "    </tr>\n",
              "    <tr>\n",
              "      <th>96</th>\n",
              "      <td>309928.jpeg</td>\n",
              "      <td>0</td>\n",
              "    </tr>\n",
              "    <tr>\n",
              "      <th>97</th>\n",
              "      <td>839998.jpeg</td>\n",
              "      <td>1</td>\n",
              "    </tr>\n",
              "    <tr>\n",
              "      <th>98</th>\n",
              "      <td>829920.jpeg</td>\n",
              "      <td>1</td>\n",
              "    </tr>\n",
              "  </tbody>\n",
              "</table>\n",
              "<p>99 rows × 2 columns</p>\n",
              "</div>"
            ],
            "text/plain": [
              "    789907.jpeg  1\n",
              "0   439948.jpeg  1\n",
              "1   489913.jpeg  1\n",
              "2   429933.jpeg  0\n",
              "3   499929.jpeg  0\n",
              "4   259831.jpeg  1\n",
              "..          ... ..\n",
              "94  899886.jpeg  1\n",
              "95  889886.jpeg  0\n",
              "96  309928.jpeg  0\n",
              "97  839998.jpeg  1\n",
              "98  829920.jpeg  1\n",
              "\n",
              "[99 rows x 2 columns]"
            ]
          },
          "metadata": {
            "tags": []
          },
          "execution_count": 217
        }
      ]
    },
    {
      "cell_type": "code",
      "metadata": {
        "id": "TF8Hdxg7hgxo"
      },
      "source": [
        ""
      ],
      "execution_count": null,
      "outputs": []
    }
  ]
}